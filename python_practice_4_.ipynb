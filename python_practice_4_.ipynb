{
  "nbformat": 4,
  "nbformat_minor": 0,
  "metadata": {
    "colab": {
      "provenance": []
    },
    "kernelspec": {
      "name": "python3",
      "display_name": "Python 3"
    },
    "language_info": {
      "name": "python"
    }
  },
  "cells": [
    {
      "cell_type": "markdown",
      "source": [
        "# I. Functions. Arguments."
      ],
      "metadata": {
        "id": "-xM96SkgLNxS"
      }
    },
    {
      "cell_type": "markdown",
      "source": [
        "0. (5б) Назвіть 4 частини, з яких складається визначення функції."
      ],
      "metadata": {
        "id": "RFkkDC1jikAI"
      }
    },
    {
      "cell_type": "code",
      "source": [
        "def greet(name):\n",
        "    print(f\"Hello, {name}!\")"
      ],
      "metadata": {
        "id": "tV4xxWnFisqZ"
      },
      "execution_count": 1,
      "outputs": []
    },
    {
      "cell_type": "markdown",
      "source": [
        "1. **Ключове слово def** - Використовується для визначення нової функції.\n",
        "2. **Ім'я функції** - Ідентифікатор, який використовується для звернення до функції.\n",
        "3. **Параметри** - Змінні, які приймають значення, передані функції під час виклику.\n",
        "4. **Тіло функції** - Блок коду, який визначає поведінку функції і виконується при її виклику."
      ],
      "metadata": {
        "id": "aD7fDw-Xkywy"
      }
    },
    {
      "cell_type": "markdown",
      "source": [
        "1. (4б) Визначте функцію, що приймає 2 аргументи та повертає результат ділення 1го аргумента на інший."
      ],
      "metadata": {
        "id": "mg6qjOB2LbVs"
      }
    },
    {
      "cell_type": "code",
      "execution_count": 2,
      "metadata": {
        "id": "lUbA_FWjKxQD",
        "colab": {
          "base_uri": "https://localhost:8080/"
        },
        "outputId": "52e1ef9b-c226-48fd-8dd2-9394490aac65"
      },
      "outputs": [
        {
          "output_type": "stream",
          "name": "stdout",
          "text": [
            "The result of division: 5.0\n"
          ]
        }
      ],
      "source": [
        "def division_function(number, divisor):\n",
        "    if divisor != 0:\n",
        "        return number / divisor\n",
        "    else:\n",
        "        return \"Division by zero is not possible\"\n",
        "\n",
        "print(\"The result of division:\", division_function(15, 3))"
      ]
    },
    {
      "cell_type": "markdown",
      "source": [
        "2. (2б) Викличте вище визначену функцію, де другий аргумент дорівнює 0."
      ],
      "metadata": {
        "id": "wMAYj2KXLpiJ"
      }
    },
    {
      "cell_type": "code",
      "source": [
        "print(\"The result of division:\", division_function(15, 0))"
      ],
      "metadata": {
        "id": "103jJj32Lo4Y",
        "colab": {
          "base_uri": "https://localhost:8080/"
        },
        "outputId": "a8d86727-7a3c-4432-dd61-e6f3381b9e7b"
      },
      "execution_count": 3,
      "outputs": [
        {
          "output_type": "stream",
          "name": "stdout",
          "text": [
            "The result of division: Division by zero is not possible\n"
          ]
        }
      ]
    },
    {
      "cell_type": "markdown",
      "source": [
        "У визначеній функції division_function виконується перевірка на нульовий другий аргумент (divisor). Якщо другий аргумент дорівнює 0, то функція повертає рядок \"Division by zero is not possible\". Це робиться для того, щоб уникнути помилок в програмі."
      ],
      "metadata": {
        "id": "EuQebaYbpEVA"
      }
    },
    {
      "cell_type": "markdown",
      "source": [
        "3. (6б) Перевизначте функцію так, щоби у випадку ділення на 0 функція повертала None, а в решті випадків - результат розрахунків."
      ],
      "metadata": {
        "id": "eT-pwEwPMD3T"
      }
    },
    {
      "cell_type": "code",
      "source": [
        "def division_function(number, divisor):\n",
        "    if divisor != 0:\n",
        "        return number / divisor\n",
        "    else:\n",
        "        return None\n",
        "\n",
        "print(\"The result of division:\", division_function(15, 3))\n",
        "print(\"The result of division:\", division_function(15, 0))"
      ],
      "metadata": {
        "id": "1h6Jz7CKMTk_",
        "colab": {
          "base_uri": "https://localhost:8080/"
        },
        "outputId": "f5e65e7c-421a-4086-f462-6ecfdae331e1"
      },
      "execution_count": 4,
      "outputs": [
        {
          "output_type": "stream",
          "name": "stdout",
          "text": [
            "The result of division: 5.0\n",
            "The result of division: None\n"
          ]
        }
      ]
    },
    {
      "cell_type": "markdown",
      "source": [
        "4. (5б) Напишіть документацію (docstring) у форматі Google до функції, що має обчислювати суму двох чисел."
      ],
      "metadata": {
        "id": "iuTiofyDMVMG"
      }
    },
    {
      "cell_type": "code",
      "source": [
        "def sum_function(number1, number2):\n",
        "    \"\"\"\n",
        "    Calculates the sum of two numbers.\n",
        "\n",
        "    Args:\n",
        "    number1 (int or float): The first number to be added.\n",
        "    number2 (int or float): The second number to add.\n",
        "\n",
        "    Returns:\n",
        "    int or float: The sum of two numbers.\n",
        "\n",
        "    Examples:\n",
        "    >>> sum_function(5, 3)\n",
        "    8\n",
        "    >>> sum_function(2.5, 4.75)\n",
        "    7.25\n",
        "    \"\"\"\n",
        "    return number1 + number2"
      ],
      "metadata": {
        "id": "a9E6iU_iNyYQ"
      },
      "execution_count": 5,
      "outputs": []
    },
    {
      "cell_type": "markdown",
      "source": [
        "5. (4б) Реалізуйте цю функцію (із додаванням docstring у визначення функції)."
      ],
      "metadata": {
        "id": "ZvrsUQZFN5VT"
      }
    },
    {
      "cell_type": "code",
      "source": [
        "def sum_function(number1, number2):\n",
        "    \"\"\"\n",
        "    Calculates the sum of two numbers.\n",
        "\n",
        "    Args:\n",
        "    number1 (int or float): The first number to be added.\n",
        "    number2 (int or float): The second number to add.\n",
        "\n",
        "    Returns:\n",
        "    int or float: The sum of two numbers.\n",
        "\n",
        "    Examples:\n",
        "    >>> sum_function(5, 3)\n",
        "    8\n",
        "    >>> sum_function(2.5, 4.75)\n",
        "    7.25\n",
        "    \"\"\"\n",
        "    return number1 + number2"
      ],
      "metadata": {
        "id": "K5h3KTVuOBP3"
      },
      "execution_count": 6,
      "outputs": []
    },
    {
      "cell_type": "markdown",
      "source": [
        "6. (6б) Визначте функцію, що віднімає одне число від іншого (підказка: це буде 2 аргументи функції). При чому, якщо не визначити, скільки саме має бути віднято від числа, за замовчуванням має відніматися 1. Викличте функцію, передаючи тільки один аргумент."
      ],
      "metadata": {
        "id": "IILi2wfYOwYb"
      }
    },
    {
      "cell_type": "code",
      "source": [
        "def subtract_function(number1, number2=1):\n",
        "    return number1 - number2\n",
        "\n",
        "result = subtract_function(10)\n",
        "print(\"The result of subtraction:\", result)"
      ],
      "metadata": {
        "id": "hybHnk8ROvxQ",
        "colab": {
          "base_uri": "https://localhost:8080/"
        },
        "outputId": "2c38dec7-9555-499a-d9b1-c8488d66e962"
      },
      "execution_count": 7,
      "outputs": [
        {
          "output_type": "stream",
          "name": "stdout",
          "text": [
            "The result of subtraction: 9\n"
          ]
        }
      ]
    },
    {
      "cell_type": "markdown",
      "source": [
        "7. (10б) Визначте функцію, яка приймає iterable (ітерабельний обʼєкт, напр. список), що складається з 7ми рядкових значень - назв погодних умов (напр. \"sunny\") за кожен день у тижні. Повертає функція словник, де ключами є рядки з погодними умовами, а значеннями - кількість разів, скільки дана погода була протягом тижня (напр. {'sunny': 1, ...})."
      ],
      "metadata": {
        "id": "UK6o8zcuR7cH"
      }
    },
    {
      "cell_type": "code",
      "source": [
        "def weather_conditions_counter(week_conditions):\n",
        "    conditions_dict = {}\n",
        "    for condition in week_conditions:\n",
        "        conditions_dict[condition] = conditions_dict.get(condition, 0) + 1\n",
        "    return conditions_dict\n",
        "\n",
        "week_conditions = ['sunny', 'rainy', 'cloudy', 'sunny', 'sunny', 'rainy', 'cloudy']\n",
        "result = weather_conditions_counter(week_conditions)\n",
        "print(\"The weather conditions count for the week: \", result)"
      ],
      "metadata": {
        "id": "3gkR5gl0SyYO",
        "colab": {
          "base_uri": "https://localhost:8080/"
        },
        "outputId": "e6f3022d-7eb0-4034-9c8a-475c8537c79a"
      },
      "execution_count": 8,
      "outputs": [
        {
          "output_type": "stream",
          "name": "stdout",
          "text": [
            "The weather conditions count for the week:  {'sunny': 3, 'rainy': 2, 'cloudy': 2}\n"
          ]
        }
      ]
    },
    {
      "cell_type": "markdown",
      "source": [
        "8. (3б) Викличте цю функцію тричі з різними аргументами та виведіть результати на екран."
      ],
      "metadata": {
        "id": "x4zhem_2Syf7"
      }
    },
    {
      "cell_type": "code",
      "source": [
        "week_conditions1 = ['sunny', 'rainy', 'cloudy', 'sunny', 'sunny', 'rainy', 'cloudy']\n",
        "week_conditions2 = ['cloudy', 'cloudy', 'rainy', 'rainy', 'sunny', 'sunny', 'sunny']\n",
        "week_conditions3 = ['rainy', 'rainy', 'rainy', 'rainy', 'rainy', 'rainy', 'rainy']\n",
        "\n",
        "print(\"Result 1:\", weather_conditions_counter(week_conditions1))\n",
        "print(\"Result 2:\", weather_conditions_counter(week_conditions2))\n",
        "print(\"Result 3:\", weather_conditions_counter(week_conditions3))"
      ],
      "metadata": {
        "id": "B0agh7urS0Fc",
        "colab": {
          "base_uri": "https://localhost:8080/"
        },
        "outputId": "ff9bc0d8-75cf-412e-8ae3-8f4ff9b4be9d"
      },
      "execution_count": 9,
      "outputs": [
        {
          "output_type": "stream",
          "name": "stdout",
          "text": [
            "Result 1: {'sunny': 3, 'rainy': 2, 'cloudy': 2}\n",
            "Result 2: {'cloudy': 2, 'rainy': 2, 'sunny': 3}\n",
            "Result 3: {'rainy': 7}\n"
          ]
        }
      ]
    },
    {
      "cell_type": "markdown",
      "source": [
        "9. (15б) Напишіть програму, яка б шукала необхідне число у **впорядкованому** списку цілочислених значень, де\n",
        "\n",
        "  1. число має вводитись з консолі.\n",
        "  2. власне алгоритм пошуку винесений в окрему функцію, яка повертає булеве значення (знайдено число - True, не знайдено - False).\n",
        "  3. в залежності від результату функції, виведіть на екран повідомлення про успішний або ж неуспішний пошук.\n",
        "\n",
        "\n",
        "**Зауваження**: використовувати оператор **in** заборонено."
      ],
      "metadata": {
        "id": "bLgviTMlUlNG"
      }
    },
    {
      "cell_type": "code",
      "source": [
        "def search_number(sorted_list, target):\n",
        "    left, right = 0, len(sorted_list) - 1\n",
        "    while left <= right:\n",
        "        mid = (left + right) // 2\n",
        "        if sorted_list[mid] == target:\n",
        "            return True\n",
        "        elif sorted_list[mid] < target:\n",
        "            left = mid + 1\n",
        "        else:\n",
        "            right = mid - 1\n",
        "    return False\n",
        "\n",
        "sorted_list = [1, 3, 5, 7, 9, 11, 13, 15, 17, 19]\n",
        "target = int(input(\"Enter a number to search for: \"))\n",
        "\n",
        "if search_number(sorted_list, target):\n",
        "    print(\"Number found in the list.\")\n",
        "else:\n",
        "    print(\"Number not found in the list.\")"
      ],
      "metadata": {
        "id": "LAHz6MmdcWfP",
        "colab": {
          "base_uri": "https://localhost:8080/"
        },
        "outputId": "d6473b84-2186-492a-d43a-50bacfbca8a2"
      },
      "execution_count": 10,
      "outputs": [
        {
          "output_type": "stream",
          "name": "stdout",
          "text": [
            "Enter a number to search for: 2\n",
            "Number not found in the list.\n"
          ]
        }
      ]
    },
    {
      "cell_type": "markdown",
      "source": [
        "# II. Lambda functions."
      ],
      "metadata": {
        "id": "wCKOEiKhLSld"
      }
    },
    {
      "cell_type": "markdown",
      "source": [
        "10. (6б) Визначте анонімну функцію, що виконувала б завдання з задачі №1."
      ],
      "metadata": {
        "id": "c4EBfW6QcXF7"
      }
    },
    {
      "cell_type": "code",
      "source": [
        "division_function = lambda x, y: x / y\n",
        "print(\"The result of division:\", division_function(15, 3))"
      ],
      "metadata": {
        "id": "sGgO6KjuhUj5",
        "colab": {
          "base_uri": "https://localhost:8080/"
        },
        "outputId": "195624bc-a9e5-4e87-f859-4f98e106a17f"
      },
      "execution_count": 11,
      "outputs": [
        {
          "output_type": "stream",
          "name": "stdout",
          "text": [
            "The result of division: 5.0\n"
          ]
        }
      ]
    },
    {
      "cell_type": "markdown",
      "source": [
        "11. (5б) В яких випадках варто використовувати лямбда-функції?"
      ],
      "metadata": {
        "id": "fWa0efmRhepO"
      }
    },
    {
      "cell_type": "markdown",
      "source": [
        "Лямбда-функції корисні для передачі у функції вищого порядку, таких як `map()`, `filter()`, `sort()`, `reduce()`. Вони також дозволяють створювати короткі функції без повноцінного оголошення за допомогою ключового слова `def`. Лямбда-функції зручні для виконання простих операцій або маніпуляцій зі змінними. Вони також можуть бути використані для визначення функцій з вкладеними областями видимості, де потрібно використовувати значення з зовнішніх функцій."
      ],
      "metadata": {
        "id": "R68BViaPhad_"
      }
    },
    {
      "cell_type": "markdown",
      "source": [
        "12. (9б) Визначте список з рядками. Після цього визначте анонімну функцію для отримання першого символу у верхньому регістрі для кожного рядка списку.\n",
        "*Підказка*: використовуйте анонімну функцію в якості агрумента до вбудованої ф-ції, яка створена для застосування функцій над iterable обʼєктами.\n",
        "Результат виведіть на екран у вигляді кортежу."
      ],
      "metadata": {
        "id": "0CL6ikIkhU7j"
      }
    },
    {
      "cell_type": "code",
      "source": [
        "strings_list = ['star', 'wars', 'a', 'new', 'hope']\n",
        "\n",
        "result = tuple(map(lambda string: string[0].upper(), strings_list))\n",
        "print(\"The first characters are uppercase for each line:\", result)"
      ],
      "metadata": {
        "id": "I1Lw2SSNhhJw",
        "colab": {
          "base_uri": "https://localhost:8080/"
        },
        "outputId": "16fd495c-e8b8-4ed1-b76d-6a868fa154a1"
      },
      "execution_count": 12,
      "outputs": [
        {
          "output_type": "stream",
          "name": "stdout",
          "text": [
            "The first characters are uppercase for each line: ('S', 'W', 'A', 'N', 'H')\n"
          ]
        }
      ]
    },
    {
      "cell_type": "markdown",
      "source": [
        "# III. Decorators."
      ],
      "metadata": {
        "id": "rgGmGt67m5yi"
      }
    },
    {
      "cell_type": "markdown",
      "source": [
        "13. (15б) Визначте декоратор, який би виводив у консоль повідомлення про початок роботи і назву функції, а після відпрацювання функції - повідомлення про закінчення роботи і назву функції, що задекорована."
      ],
      "metadata": {
        "id": "DZm1W0Qqncu8"
      }
    },
    {
      "cell_type": "code",
      "source": [
        "def my_decorator(func):\n",
        "    def wrapper(*args, **kwargs):\n",
        "        print(f\"Starting the function {func.__name__}\")\n",
        "        result = func(*args, **kwargs)\n",
        "        print(f\"End of function operation {func.__name__}\")\n",
        "        print(f\"The result of the function performed {func.__name__}: {result}\")\n",
        "        return result\n",
        "    return wrapper\n",
        "\n",
        "@my_decorator\n",
        "def example_function(x, y):\n",
        "    return (x+y) * (x-y)\n",
        "\n",
        "result = example_function(5, 3)"
      ],
      "metadata": {
        "id": "5s3X3F6soer0",
        "colab": {
          "base_uri": "https://localhost:8080/"
        },
        "outputId": "c9d1bed3-1587-4841-c1ac-7c480d311eb1"
      },
      "execution_count": 13,
      "outputs": [
        {
          "output_type": "stream",
          "name": "stdout",
          "text": [
            "Starting the function example_function\n",
            "End of function operation example_function\n",
            "The result of the function performed example_function: 16\n"
          ]
        }
      ]
    },
    {
      "cell_type": "markdown",
      "source": [
        "14. (7б) Задекоруйте функції з завдання 3, 5 та 6 декоратором із завдання 13. *Примітка*: продемонструйте 2 способи, як можна задекорувати функції (**УВАГА**: не декоруйте функції двічі!)."
      ],
      "metadata": {
        "id": "AlGt40oVofHB"
      }
    },
    {
      "cell_type": "code",
      "source": [
        "@my_decorator\n",
        "def division_function(number, divisor):\n",
        "    if divisor == 0:\n",
        "        return None\n",
        "    else:\n",
        "        return number / divisor\n",
        "\n",
        "@my_decorator\n",
        "def sum_function(number1, number2):\n",
        "    return number1 + number2\n",
        "\n",
        "@my_decorator\n",
        "def subtract_function(number1, number2=1):\n",
        "    return number1 - number2"
      ],
      "metadata": {
        "id": "hkxhoRVqo1AW"
      },
      "execution_count": 14,
      "outputs": []
    },
    {
      "cell_type": "markdown",
      "source": [
        "Спосіб 1: Використання синтаксису декоратора '@'\n",
        "\n",
        "```python\n",
        "@my_decorator\n",
        "def sum_function(number1, number2):\n",
        "    return number1 + number2\n",
        "```\n",
        "\n",
        "Спосіб 2: Присвоєння декорованої функції змінній\n",
        "\n",
        "```python\n",
        "sum_function = my_decorator(sum_function)\n",
        "```"
      ],
      "metadata": {
        "id": "nqTZWlfzIl3T"
      }
    },
    {
      "cell_type": "markdown",
      "source": [
        "В коді я використав 1 спосіб тому, що цей підхід є більш зручним та читабельним для мене. Синтаксис декоратора дозволяє однозначно вказати, які функції підлягають декоруванню, що полегшує зрозуміння мети декоратора при перегляді коду."
      ],
      "metadata": {
        "id": "48QqIXtyKFlH"
      }
    },
    {
      "cell_type": "markdown",
      "source": [
        "15. (2б) Викличте одну з задекорованих функцій і виведіть її результат на екран."
      ],
      "metadata": {
        "id": "6QkS0Kxzo4UR"
      }
    },
    {
      "cell_type": "code",
      "source": [
        "division_function_result = division_function(15, 3)\n",
        "print(\"\\n\")\n",
        "sum_function_result = sum_function(5, 3)\n",
        "print(\"\\n\")\n",
        "subtract_function_result = subtract_function(10)"
      ],
      "metadata": {
        "id": "BCCCPai6o-y5",
        "colab": {
          "base_uri": "https://localhost:8080/"
        },
        "outputId": "aa660ce9-103c-44e6-ebc9-36172cbd60af"
      },
      "execution_count": 15,
      "outputs": [
        {
          "output_type": "stream",
          "name": "stdout",
          "text": [
            "Starting the function division_function\n",
            "End of function operation division_function\n",
            "The result of the function performed division_function: 5.0\n",
            "\n",
            "\n",
            "Starting the function sum_function\n",
            "End of function operation sum_function\n",
            "The result of the function performed sum_function: 8\n",
            "\n",
            "\n",
            "Starting the function subtract_function\n",
            "End of function operation subtract_function\n",
            "The result of the function performed subtract_function: 9\n"
          ]
        }
      ]
    },
    {
      "cell_type": "markdown",
      "source": [
        "# Вітаю! Ви велика(ий) молодець, що впоралась(вся). Похваліть себе та побалуйте чимось приємним. Я Вами пишаюся."
      ],
      "metadata": {
        "id": "CSN0Q5pMQVNQ"
      }
    }
  ]
}